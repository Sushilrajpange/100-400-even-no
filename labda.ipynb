{
  "nbformat": 4,
  "nbformat_minor": 0,
  "metadata": {
    "colab": {
      "name": "labda",
      "provenance": [],
      "authorship_tag": "ABX9TyPUYdSs40uxE9p+mD6pvqwj",
      "include_colab_link": true
    },
    "kernelspec": {
      "name": "python3",
      "display_name": "Python 3"
    },
    "language_info": {
      "name": "python"
    }
  },
  "cells": [
    {
      "cell_type": "markdown",
      "metadata": {
        "id": "view-in-github",
        "colab_type": "text"
      },
      "source": [
        "<a href=\"https://colab.research.google.com/github/Sushilrajpange/100-400-even-no/blob/main/labda.ipynb\" target=\"_parent\"><img src=\"https://colab.research.google.com/assets/colab-badge.svg\" alt=\"Open In Colab\"/></a>"
      ]
    },
    {
      "cell_type": "code",
      "metadata": {
        "colab": {
          "base_uri": "https://localhost:8080/"
        },
        "id": "oWw1zTw7p9uf",
        "outputId": "2ac5e8f8-6ea9-4d37-c053-92f27457e500"
      },
      "source": [
        "x =lambda a : a + 10\n",
        "print(x(5))\n"
      ],
      "execution_count": null,
      "outputs": [
        {
          "output_type": "stream",
          "name": "stdout",
          "text": [
            "15\n"
          ]
        }
      ]
    },
    {
      "cell_type": "code",
      "metadata": {
        "id": "M0ZymffErzpw",
        "colab": {
          "base_uri": "https://localhost:8080/"
        },
        "outputId": "c544ccc2-2ba1-4b80-c2ea-6ebd61009d3e"
      },
      "source": [
        "x = lambda a,b : a*b\n",
        "print(x(5 ,6))\n"
      ],
      "execution_count": null,
      "outputs": [
        {
          "output_type": "stream",
          "name": "stdout",
          "text": [
            "30\n"
          ]
        }
      ]
    },
    {
      "cell_type": "code",
      "metadata": {
        "colab": {
          "base_uri": "https://localhost:8080/"
        },
        "id": "7RE5zDnLylim",
        "outputId": "320aa114-34e7-4051-df63-b2c1758c4db4"
      },
      "source": [
        "x=lambda a,b,c : a+b+c\n",
        "print(x(5,6,2))\n"
      ],
      "execution_count": null,
      "outputs": [
        {
          "output_type": "stream",
          "name": "stdout",
          "text": [
            "13\n"
          ]
        }
      ]
    }
  ]
}