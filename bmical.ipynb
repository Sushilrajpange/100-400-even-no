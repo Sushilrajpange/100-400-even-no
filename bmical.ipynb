{
  "nbformat": 4,
  "nbformat_minor": 0,
  "metadata": {
    "colab": {
      "name": "bmical",
      "provenance": [],
      "collapsed_sections": [],
      "authorship_tag": "ABX9TyPkFsNYRLWqtGblpkGf5rlv",
      "include_colab_link": true
    },
    "kernelspec": {
      "name": "python3",
      "display_name": "Python 3"
    },
    "language_info": {
      "name": "python"
    }
  },
  "cells": [
    {
      "cell_type": "markdown",
      "metadata": {
        "id": "view-in-github",
        "colab_type": "text"
      },
      "source": [
        "<a href=\"https://colab.research.google.com/github/Sushilrajpange/100-400-even-no/blob/main/bmical.ipynb\" target=\"_parent\"><img src=\"https://colab.research.google.com/assets/colab-badge.svg\" alt=\"Open In Colab\"/></a>"
      ]
    },
    {
      "cell_type": "code",
      "metadata": {
        "colab": {
          "base_uri": "https://localhost:8080/"
        },
        "id": "RyZpqJaaF1aS",
        "outputId": "60bc27cd-811d-4c03-e0c2-39b0ac7f7970"
      },
      "source": [
        "height = float(input(\"input your height in feet:\"))\n",
        "weight = float(input(\"input your weight in killogram\"))\n",
        "print(\"your body mass index is : \",round(weight/(height*height),2))\n"
      ],
      "execution_count": 3,
      "outputs": [
        {
          "output_type": "stream",
          "name": "stdout",
          "text": [
            "input your height in feet:6\n",
            "input your weight in killogram65\n",
            "your body mass index is :  1.81\n"
          ]
        }
      ]
    }
  ]
}