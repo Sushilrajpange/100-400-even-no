{
  "nbformat": 4,
  "nbformat_minor": 0,
  "metadata": {
    "colab": {
      "name": "multiple inheritance",
      "provenance": [],
      "collapsed_sections": [],
      "authorship_tag": "ABX9TyPZupPDdqBiQ62rc288iuEk",
      "include_colab_link": true
    },
    "kernelspec": {
      "name": "python3",
      "display_name": "Python 3"
    },
    "language_info": {
      "name": "python"
    }
  },
  "cells": [
    {
      "cell_type": "markdown",
      "metadata": {
        "id": "view-in-github",
        "colab_type": "text"
      },
      "source": [
        "<a href=\"https://colab.research.google.com/github/Sushilrajpange/100-400-even-no/blob/main/multiple_inheritance.ipynb\" target=\"_parent\"><img src=\"https://colab.research.google.com/assets/colab-badge.svg\" alt=\"Open In Colab\"/></a>"
      ]
    },
    {
      "cell_type": "code",
      "metadata": {
        "colab": {
          "base_uri": "https://localhost:8080/"
        },
        "id": "pHKTkry88iWg",
        "outputId": "a2f00193-e155-4755-9ebd-438f26c4f54f"
      },
      "source": [
        "class parentA:\n",
        "    eyeccolor = \"black\"\n",
        "    def height(self):\n",
        "      print(\"heigth is avg \")\n",
        "\n",
        "class parentB:\n",
        "    eyecolor = \"blue\"\n",
        "    def height(self):\n",
        "      print(\"height is tall\")\n",
        "    def bloodgroup(self):\n",
        "      print(\"bloodgroup: o-\")\n",
        "\n",
        "class child(parentA,parentB):\n",
        "    def __init__(self):\n",
        "      print(\"create object child class\")\n",
        "\n",
        "if __name__==\"__main__\":\n",
        "      objc = child()\n",
        "      objc.bloodgroup()\n",
        "      objc.height()\n",
        "      print(\"eyecolor:\",objc.eyecolor)\n"
      ],
      "execution_count": null,
      "outputs": [
        {
          "output_type": "stream",
          "name": "stdout",
          "text": [
            "create object child class\n",
            "bloodgroup: o-\n",
            "heigth is avg \n",
            "eyecolor: blue\n"
          ]
        }
      ]
    }
  ]
}