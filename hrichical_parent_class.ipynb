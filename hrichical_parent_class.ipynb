{
  "nbformat": 4,
  "nbformat_minor": 0,
  "metadata": {
    "colab": {
      "name": "hrichical parent class",
      "provenance": [],
      "collapsed_sections": [],
      "authorship_tag": "ABX9TyPAvLuraGnCSWCekXGYKUqd",
      "include_colab_link": true
    },
    "kernelspec": {
      "name": "python3",
      "display_name": "Python 3"
    },
    "language_info": {
      "name": "python"
    }
  },
  "cells": [
    {
      "cell_type": "markdown",
      "metadata": {
        "id": "view-in-github",
        "colab_type": "text"
      },
      "source": [
        "<a href=\"https://colab.research.google.com/github/Sushilrajpange/100-400-even-no/blob/main/hrichical_parent_class.ipynb\" target=\"_parent\"><img src=\"https://colab.research.google.com/assets/colab-badge.svg\" alt=\"Open In Colab\"/></a>"
      ]
    },
    {
      "cell_type": "code",
      "metadata": {
        "colab": {
          "base_uri": "https://localhost:8080/"
        },
        "id": "7NpEMgTk7rxN",
        "outputId": "0f555f0b-4d3e-4e92-f542-a447302b0e27"
      },
      "source": [
        "class parent:\n",
        "    def func1(self):\n",
        "      print(\"this is fun 1. \")\n",
        "\n",
        "class child(parent):\n",
        "    def func2(self):\n",
        "      print(\"this is fun 2 \")\n",
        "      \n",
        "class child2(parent):\n",
        "    def func3():\n",
        "      print(\"this is fun 3 \")\n",
        "\n",
        "\n",
        "ob = child()\n",
        "ob1 = child()\n",
        "ob.func1()\n",
        "ob.func2()\n"
      ],
      "execution_count": 1,
      "outputs": [
        {
          "output_type": "stream",
          "name": "stdout",
          "text": [
            "this is fun 1. \n",
            "this is fun 2 \n"
          ]
        }
      ]
    }
  ]
}