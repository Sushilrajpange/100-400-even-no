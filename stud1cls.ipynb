{
  "nbformat": 4,
  "nbformat_minor": 0,
  "metadata": {
    "colab": {
      "name": "stud1cls",
      "provenance": [],
      "collapsed_sections": [],
      "authorship_tag": "ABX9TyPCP72vGyyD2BufyOKZNg4X",
      "include_colab_link": true
    },
    "kernelspec": {
      "name": "python3",
      "display_name": "Python 3"
    },
    "language_info": {
      "name": "python"
    }
  },
  "cells": [
    {
      "cell_type": "markdown",
      "metadata": {
        "id": "view-in-github",
        "colab_type": "text"
      },
      "source": [
        "<a href=\"https://colab.research.google.com/github/Sushilrajpange/100-400-even-no/blob/main/stud1cls.ipynb\" target=\"_parent\"><img src=\"https://colab.research.google.com/assets/colab-badge.svg\" alt=\"Open In Colab\"/></a>"
      ]
    },
    {
      "cell_type": "code",
      "metadata": {
        "colab": {
          "base_uri": "https://localhost:8080/"
        },
        "id": "-X9Uj_EWx7e2",
        "outputId": "a7cf0800-acbe-4f8c-c7d3-2b6e6da51e6e"
      },
      "source": [
        "class py_solution:\n",
        "  def sub_sets(self,sset):\n",
        "      return self.subsetsRecur([],sorted(sset))\n",
        "\n",
        "  def subsetsRecur(self, current,sset):\n",
        "      if sset:\n",
        "         return self.subsetsRecur(current,sset[1:]) + self.subsetsRecur(current + [sset[0]], sset[1:])\n",
        "      return [current]\n",
        "for name in py_solution,dict:\n",
        " print(name)\n"
      ],
      "execution_count": null,
      "outputs": [
        {
          "output_type": "stream",
          "name": "stdout",
          "text": [
            "<class '__main__.py_solution'>\n",
            "<class 'dict'>\n"
          ]
        }
      ]
    }
  ]
}