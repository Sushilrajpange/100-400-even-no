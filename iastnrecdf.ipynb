{
  "nbformat": 4,
  "nbformat_minor": 0,
  "metadata": {
    "colab": {
      "name": "iastnrecdf",
      "provenance": [],
      "collapsed_sections": [],
      "authorship_tag": "ABX9TyNTs2hFcfHEyeiElFMezo34",
      "include_colab_link": true
    },
    "kernelspec": {
      "name": "python3",
      "display_name": "Python 3"
    },
    "language_info": {
      "name": "python"
    }
  },
  "cells": [
    {
      "cell_type": "markdown",
      "metadata": {
        "id": "view-in-github",
        "colab_type": "text"
      },
      "source": [
        "<a href=\"https://colab.research.google.com/github/Sushilrajpange/100-400-even-no/blob/main/iastnrecdf.ipynb\" target=\"_parent\"><img src=\"https://colab.research.google.com/assets/colab-badge.svg\" alt=\"Open In Colab\"/></a>"
      ]
    },
    {
      "cell_type": "code",
      "metadata": {
        "id": "5eAk6AyiVY7R",
        "colab": {
          "base_uri": "https://localhost:8080/"
        },
        "outputId": "93a93267-8928-49f4-e38a-08e44e1a8eed"
      },
      "source": [
        "import pandas as pd\n",
        "d = {'col1':[1,2,3,4,7,11],'col2':[4,5,6,9,5,0],'col3':[7,5,8,12,1,11]}\n",
        "df =pd.DataFrame(data=d)\n",
        "print(\"original Dataframe\")\n",
        "print(df)\n",
        "print(\"\\nlast 3 rows of the said dataframe':\")\n",
        "df1=df.tail(3)\n",
        "print(df1)"
      ],
      "execution_count": 18,
      "outputs": [
        {
          "output_type": "stream",
          "name": "stdout",
          "text": [
            "original Dataframe\n",
            "   col1  col2  col3\n",
            "0     1     4     7\n",
            "1     2     5     5\n",
            "2     3     6     8\n",
            "3     4     9    12\n",
            "4     7     5     1\n",
            "5    11     0    11\n",
            "\n",
            "last 3 rows of the said dataframe':\n",
            "   col1  col2  col3\n",
            "3     4     9    12\n",
            "4     7     5     1\n",
            "5    11     0    11\n"
          ]
        }
      ]
    }
  ]
}