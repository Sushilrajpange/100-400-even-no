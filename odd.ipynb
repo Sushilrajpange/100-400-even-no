{
  "nbformat": 4,
  "nbformat_minor": 0,
  "metadata": {
    "colab": {
      "name": "odd",
      "provenance": [],
      "collapsed_sections": [],
      "authorship_tag": "ABX9TyN1JxuSP6Set+pjaYON/tar",
      "include_colab_link": true
    },
    "kernelspec": {
      "name": "python3",
      "display_name": "Python 3"
    },
    "language_info": {
      "name": "python"
    }
  },
  "cells": [
    {
      "cell_type": "markdown",
      "metadata": {
        "id": "view-in-github",
        "colab_type": "text"
      },
      "source": [
        "<a href=\"https://colab.research.google.com/github/Sushilrajpange/100-400-even-no/blob/main/odd.ipynb\" target=\"_parent\"><img src=\"https://colab.research.google.com/assets/colab-badge.svg\" alt=\"Open In Colab\"/></a>"
      ]
    },
    {
      "cell_type": "code",
      "execution_count": null,
      "metadata": {
        "colab": {
          "base_uri": "https://localhost:8080/"
        },
        "id": "2aFZ784DOCTd",
        "outputId": "e1349196-ece1-4e73-f6e4-662c7d46f2cf"
      },
      "outputs": [
        {
          "output_type": "stream",
          "name": "stdout",
          "text": [
            "[1.9, 3]\n",
            "[1.9, 3, 5, 7]\n"
          ]
        }
      ],
      "source": [
        "odd = [1.9]\n",
        "odd.insert(1,3)\n",
        "print(odd)\n",
        "odd[2:2] = [5,7]\n",
        "print(odd)"
      ]
    }
  ]
}