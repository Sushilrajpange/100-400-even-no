{
  "nbformat": 4,
  "nbformat_minor": 0,
  "metadata": {
    "colab": {
      "name": "filter",
      "provenance": [],
      "collapsed_sections": [],
      "authorship_tag": "ABX9TyNkcpr5M2PIjxMpy5LhB/2b",
      "include_colab_link": true
    },
    "kernelspec": {
      "name": "python3",
      "display_name": "Python 3"
    },
    "language_info": {
      "name": "python"
    }
  },
  "cells": [
    {
      "cell_type": "markdown",
      "metadata": {
        "id": "view-in-github",
        "colab_type": "text"
      },
      "source": [
        "<a href=\"https://colab.research.google.com/github/Sushilrajpange/100-400-even-no/blob/main/filter.ipynb\" target=\"_parent\"><img src=\"https://colab.research.google.com/assets/colab-badge.svg\" alt=\"Open In Colab\"/></a>"
      ]
    },
    {
      "cell_type": "code",
      "metadata": {
        "colab": {
          "base_uri": "https://localhost:8080/"
        },
        "id": "BMNLLmrDzCjW",
        "outputId": "618fb733-620b-4014-ef3b-2de05285dd21"
      },
      "source": [
        "def fun(variable):\n",
        "  letters = ['a','e','i','o','u']\n",
        "  if (variable in letters):\n",
        "    return True\n",
        "  else:\n",
        "    return False\n",
        "\n",
        "sequence = ['a','b','c']\n",
        "filtered = filter(fun,sequence)\n",
        "print('the filter letter are:')\n",
        "for s in filtered:\n",
        "  print(s)\n",
        "\n"
      ],
      "execution_count": null,
      "outputs": [
        {
          "output_type": "stream",
          "name": "stdout",
          "text": [
            "the filter letter are:\n",
            "a\n"
          ]
        }
      ]
    },
    {
      "cell_type": "code",
      "metadata": {
        "id": "GlZ7S8v24Xy2"
      },
      "source": [
        "def fun(num):\n",
        "  numbers = [3,5,7,9]\n",
        "  if (num % 2==0):\n",
        "    return True\n",
        "  else:\n",
        "    return False\n",
        "\n",
        "  sequence_int =(1,2,3,4,5,6,7,8,9)\n",
        "  filtered=filter(fun,sequence)\n",
        "\n",
        "  print('filtered no is :')\n",
        "  for odd in filtered:\n",
        "    print(odd)\n",
        "\n"
      ],
      "execution_count": null,
      "outputs": []
    }
  ]
}