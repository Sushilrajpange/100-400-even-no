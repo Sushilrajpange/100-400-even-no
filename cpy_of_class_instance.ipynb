{
  "nbformat": 4,
  "nbformat_minor": 0,
  "metadata": {
    "colab": {
      "name": "cpy of class instance",
      "provenance": [],
      "collapsed_sections": [],
      "authorship_tag": "ABX9TyOmDH3xmvagQdmqhNMVSH/0",
      "include_colab_link": true
    },
    "kernelspec": {
      "name": "python3",
      "display_name": "Python 3"
    },
    "language_info": {
      "name": "python"
    }
  },
  "cells": [
    {
      "cell_type": "markdown",
      "metadata": {
        "id": "view-in-github",
        "colab_type": "text"
      },
      "source": [
        "<a href=\"https://colab.research.google.com/github/Sushilrajpange/100-400-even-no/blob/main/cpy_of_class_instance.ipynb\" target=\"_parent\"><img src=\"https://colab.research.google.com/assets/colab-badge.svg\" alt=\"Open In Colab\"/></a>"
      ]
    },
    {
      "cell_type": "code",
      "metadata": {
        "colab": {
          "base_uri": "https://localhost:8080/"
        },
        "id": "E5hC0WUn50KI",
        "outputId": "2300d32b-4ff4-45e9-818f-345724d3f272"
      },
      "source": [
        "import itertools\n",
        "x = itertools.cycle('abcd')\n",
        "print(type(x).__name__)\n"
      ],
      "execution_count": null,
      "outputs": [
        {
          "output_type": "stream",
          "name": "stdout",
          "text": [
            "cycle\n"
          ]
        }
      ]
    }
  ]
}