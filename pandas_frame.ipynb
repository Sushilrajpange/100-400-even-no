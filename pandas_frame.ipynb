{
  "nbformat": 4,
  "nbformat_minor": 0,
  "metadata": {
    "colab": {
      "name": "pandas frame",
      "provenance": [],
      "authorship_tag": "ABX9TyM8HayT1Ycr+qGGpcBR/b3Z",
      "include_colab_link": true
    },
    "kernelspec": {
      "name": "python3",
      "display_name": "Python 3"
    },
    "language_info": {
      "name": "python"
    }
  },
  "cells": [
    {
      "cell_type": "markdown",
      "metadata": {
        "id": "view-in-github",
        "colab_type": "text"
      },
      "source": [
        "<a href=\"https://colab.research.google.com/github/Sushilrajpange/100-400-even-no/blob/main/pandas_frame.ipynb\" target=\"_parent\"><img src=\"https://colab.research.google.com/assets/colab-badge.svg\" alt=\"Open In Colab\"/></a>"
      ]
    },
    {
      "cell_type": "code",
      "metadata": {
        "colab": {
          "base_uri": "https://localhost:8080/"
        },
        "id": "0iB-mGIPOcSM",
        "outputId": "f0748feb-4fbc-4437-a10d-0d3a671367c7"
      },
      "source": [
        "'''wap pandas program\n",
        "expectednoutput:\n",
        "X Y Z\n",
        "0 78 84 86\n",
        "1 85 94  97\n",
        "2 96 89 96\n",
        "3 80 83 72\n",
        "4 86 86 83'''\n",
        " \n",
        "\n",
        "import pandas  as pd\n",
        "import numpy as np\n",
        "df = pd.DataFrame({'x':[78,85,96,80,86],'y':[84,94,89,83,86],'z':[86,97,96,72,83]});\n",
        "print(df)\n"
      ],
      "execution_count": 5,
      "outputs": [
        {
          "output_type": "stream",
          "name": "stdout",
          "text": [
            "    x   y   z\n",
            "0  78  84  86\n",
            "1  85  94  97\n",
            "2  96  89  96\n",
            "3  80  83  72\n",
            "4  86  86  83\n"
          ]
        }
      ]
    }
  ]
}