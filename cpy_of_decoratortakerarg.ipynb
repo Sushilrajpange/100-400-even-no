{
  "nbformat": 4,
  "nbformat_minor": 0,
  "metadata": {
    "colab": {
      "name": "cpy of decoratortakerarg",
      "provenance": [],
      "authorship_tag": "ABX9TyMLCb9jF1kiHbr/O9cyvNaD",
      "include_colab_link": true
    },
    "kernelspec": {
      "name": "python3",
      "display_name": "Python 3"
    },
    "language_info": {
      "name": "python"
    }
  },
  "cells": [
    {
      "cell_type": "markdown",
      "metadata": {
        "id": "view-in-github",
        "colab_type": "text"
      },
      "source": [
        "<a href=\"https://colab.research.google.com/github/Sushilrajpange/100-400-even-no/blob/main/cpy_of_decoratortakerarg.ipynb\" target=\"_parent\"><img src=\"https://colab.research.google.com/assets/colab-badge.svg\" alt=\"Open In Colab\"/></a>"
      ]
    },
    {
      "cell_type": "code",
      "metadata": {
        "colab": {
          "base_uri": "https://localhost:8080/"
        },
        "id": "KCPgfyeqUtz9",
        "outputId": "3724f654-8cf0-4375-d534-2e0f7a901ced"
      },
      "source": [
        "def meta_decorator(power):\n",
        "  def decorator_list(fnc):\n",
        "    def inner(list_of_tuples):\n",
        "      return [(fnc(val[0],val[1])) ** power for val in list_of_tuples]\n",
        "    return inner\n",
        "  return decorator_list\n",
        "\n",
        "@meta_decorator(2)\n",
        "def add_together(a,b):\n",
        "  return a+b\n",
        "\n",
        "print(add_together([(1,3),(3,17),(5,5),(6,7)]))\n"
      ],
      "execution_count": 2,
      "outputs": [
        {
          "output_type": "stream",
          "name": "stdout",
          "text": [
            "[16, 400, 100, 169]\n"
          ]
        }
      ]
    }
  ]
}