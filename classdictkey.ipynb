{
  "nbformat": 4,
  "nbformat_minor": 0,
  "metadata": {
    "colab": {
      "name": "classdictkey",
      "provenance": [],
      "collapsed_sections": [],
      "authorship_tag": "ABX9TyOeU5w+guxrKP2z4EIOtmM6",
      "include_colab_link": true
    },
    "kernelspec": {
      "name": "python3",
      "display_name": "Python 3"
    },
    "language_info": {
      "name": "python"
    }
  },
  "cells": [
    {
      "cell_type": "markdown",
      "metadata": {
        "id": "view-in-github",
        "colab_type": "text"
      },
      "source": [
        "<a href=\"https://colab.research.google.com/github/Sushilrajpange/100-400-even-no/blob/main/classdictkey.ipynb\" target=\"_parent\"><img src=\"https://colab.research.google.com/assets/colab-badge.svg\" alt=\"Open In Colab\"/></a>"
      ]
    },
    {
      "cell_type": "code",
      "metadata": {
        "colab": {
          "base_uri": "https://localhost:8080/"
        },
        "id": "7J0lQaOC4WsU",
        "outputId": "1c1e7463-478a-4254-ed3f-274a78e7cbf8"
      },
      "source": [
        "class student:\n",
        "    pass\n",
        "print(type(student))\n",
        "print(student.__dict__.keys())\n",
        "print(student.__module__)\n"
      ],
      "execution_count": null,
      "outputs": [
        {
          "output_type": "stream",
          "name": "stdout",
          "text": [
            "<class 'type'>\n",
            "dict_keys(['__module__', '__dict__', '__weakref__', '__doc__'])\n",
            "__main__\n"
          ]
        }
      ]
    }
  ]
}