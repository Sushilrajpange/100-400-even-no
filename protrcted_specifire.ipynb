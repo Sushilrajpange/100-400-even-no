{
  "nbformat": 4,
  "nbformat_minor": 0,
  "metadata": {
    "colab": {
      "name": "protrcted specifire",
      "provenance": [],
      "collapsed_sections": [],
      "authorship_tag": "ABX9TyMhslPXYyoChnPY86ILjWKt",
      "include_colab_link": true
    },
    "kernelspec": {
      "name": "python3",
      "display_name": "Python 3"
    },
    "language_info": {
      "name": "python"
    }
  },
  "cells": [
    {
      "cell_type": "markdown",
      "metadata": {
        "id": "view-in-github",
        "colab_type": "text"
      },
      "source": [
        "<a href=\"https://colab.research.google.com/github/Sushilrajpange/100-400-even-no/blob/main/protrcted_specifire.ipynb\" target=\"_parent\"><img src=\"https://colab.research.google.com/assets/colab-badge.svg\" alt=\"Open In Colab\"/></a>"
      ]
    },
    {
      "cell_type": "code",
      "metadata": {
        "id": "Tl6hln6l9ODr"
      },
      "source": [
        "class Student:\n",
        "  def __init__(self):\n",
        "    self._name = \"sushil.com\"\n",
        "\n",
        "  def _funName(self):\n",
        "    return \"method here\"\n",
        "\n",
        "class Subject(Student):\n",
        "    pass\n",
        "\n",
        "obj = Student()\n",
        "obj1 = Subject()\n"
      ],
      "execution_count": null,
      "outputs": []
    }
  ]
}