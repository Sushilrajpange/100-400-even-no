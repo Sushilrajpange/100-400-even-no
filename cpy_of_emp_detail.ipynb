{
  "nbformat": 4,
  "nbformat_minor": 0,
  "metadata": {
    "colab": {
      "name": "cpy of emp detail",
      "provenance": [],
      "collapsed_sections": [],
      "authorship_tag": "ABX9TyP76V7uhDJyE4W8gAmCHxGY",
      "include_colab_link": true
    },
    "kernelspec": {
      "name": "python3",
      "display_name": "Python 3"
    },
    "language_info": {
      "name": "python"
    }
  },
  "cells": [
    {
      "cell_type": "markdown",
      "metadata": {
        "id": "view-in-github",
        "colab_type": "text"
      },
      "source": [
        "<a href=\"https://colab.research.google.com/github/Sushilrajpange/100-400-even-no/blob/main/cpy_of_emp_detail.ipynb\" target=\"_parent\"><img src=\"https://colab.research.google.com/assets/colab-badge.svg\" alt=\"Open In Colab\"/></a>"
      ]
    },
    {
      "cell_type": "code",
      "metadata": {
        "colab": {
          "base_uri": "https://localhost:8080/"
        },
        "id": "XWpjKqf-7FHR",
        "outputId": "d1c5e884-4ac1-4a17-f69d-c7e91b6a17b0"
      },
      "source": [
        "class Employee:\n",
        "  count=0\n",
        "  def __init__(self,name,desig,salary):\n",
        "    self.name=name\n",
        "    self.desig=desig\n",
        "    self.salary=salary\n",
        "    Employee.count+=1\n",
        "  def displaycount(self):\n",
        "      print(\"there are %d Employee\" % Employee.count)\n",
        "  def displayDetails(self):\n",
        "      print(\"name:\" ,self.name,\", designation: \",self.desig,\",salary:\",self.salary) \n",
        "e1=Employee(\"jonh\", \"manager\", 80000)\n",
        "e2=Employee(\"mike\", \"assistant\", 75000)\n",
        "e3=Employee(\"jj\", \"hr\", 60000)\n",
        "e4=Employee(\"kk\", \"devleper\", 55000)\n",
        "e4.displaycount()\n",
        "print(\"details of all Employee:\")\n",
        "e1.displayDetails()\n",
        "e2.displayDetails() \n",
        "e3.displayDetails()\n",
        "e4.displayDetails()\n"
      ],
      "execution_count": null,
      "outputs": [
        {
          "output_type": "stream",
          "name": "stdout",
          "text": [
            "there are 4 Employee\n",
            "details of all Employee:\n",
            "name: jonh , designation:  manager ,salary: 80000\n",
            "name: mike , designation:  assistant ,salary: 75000\n",
            "name: jj , designation:  hr ,salary: 60000\n",
            "name: kk , designation:  devleper ,salary: 55000\n"
          ]
        }
      ]
    }
  ]
}