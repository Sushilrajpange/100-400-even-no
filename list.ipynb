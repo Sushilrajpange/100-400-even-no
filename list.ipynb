{
  "nbformat": 4,
  "nbformat_minor": 0,
  "metadata": {
    "colab": {
      "name": "list",
      "provenance": [],
      "authorship_tag": "ABX9TyNixxOifJG4gqwyfOFYBmVX",
      "include_colab_link": true
    },
    "kernelspec": {
      "name": "python3",
      "display_name": "Python 3"
    },
    "language_info": {
      "name": "python"
    }
  },
  "cells": [
    {
      "cell_type": "markdown",
      "metadata": {
        "id": "view-in-github",
        "colab_type": "text"
      },
      "source": [
        "<a href=\"https://colab.research.google.com/github/Sushilrajpange/100-400-even-no/blob/main/list.ipynb\" target=\"_parent\"><img src=\"https://colab.research.google.com/assets/colab-badge.svg\" alt=\"Open In Colab\"/></a>"
      ]
    },
    {
      "cell_type": "code",
      "metadata": {
        "id": "t26IqxntCmwx"
      },
      "source": [
        ""
      ],
      "execution_count": 2,
      "outputs": []
    },
    {
      "cell_type": "code",
      "metadata": {
        "id": "DJjTB-Zz03SI"
      },
      "source": [
        ""
      ],
      "execution_count": 2,
      "outputs": []
    },
    {
      "cell_type": "code",
      "metadata": {
        "colab": {
          "base_uri": "https://localhost:8080/"
        },
        "id": "RTmT3T4iE-_7",
        "outputId": "3ec0ca30-4636-4313-b03a-a3ac3b74fc4c"
      },
      "source": [
        "my_list = ['s','u','s','h','i','l']\n",
        "# output: true\n",
        "print('s' in my_list)\n",
        "# output: false\n",
        "print('h' in my_list)\n",
        "#output: true\n",
        "print('s' not in my_list)\n",
        "\n",
        "\n"
      ],
      "execution_count": 3,
      "outputs": [
        {
          "output_type": "stream",
          "name": "stdout",
          "text": [
            "True\n",
            "True\n",
            "False\n"
          ]
        }
      ]
    },
    {
      "cell_type": "code",
      "metadata": {
        "id": "EZ1VMZteHDyJ",
        "colab": {
          "base_uri": "https://localhost:8080/"
        },
        "outputId": "f5f08abf-8756-4a7e-a2bf-7bfd5df7ef0f"
      },
      "source": [
        "#concatenating and repeating lists\n",
        "odd = [1,2,4]\n",
        "print(odd + [5,6,7])\n",
        "print([\"raj\"]*4)\n"
      ],
      "execution_count": 4,
      "outputs": [
        {
          "output_type": "stream",
          "name": "stdout",
          "text": [
            "[1, 2, 4, 5, 6, 7]\n",
            "['raj', 'raj', 'raj', 'raj']\n"
          ]
        }
      ]
    },
    {
      "cell_type": "markdown",
      "metadata": {
        "id": "2pY6g_ayE75y"
      },
      "source": [
        "#correcting mistake value in list\n",
        "odd = [1,2,3,4]\n",
        "#change the list item\n",
        "odd[0]= 1\n",
        "print(odd)\n",
        "#change the2nd to 4th item\n",
        "odd[2:4]=[2,3,4]\n",
        "print(odd)\n"
      ]
    },
    {
      "cell_type": "code",
      "metadata": {
        "id": "_BwpEKNfJzh1",
        "colab": {
          "base_uri": "https://localhost:8080/"
        },
        "outputId": "6a7e4146-f339-4a7e-fcd1-d32f79cc423e"
      },
      "source": [
        "#appending and extending list in python \n",
        "odd = [1,3,4]\n",
        "odd.append(6)\n",
        "print (odd)\n",
        "odd.extend([7,8,9,0])\n",
        "print(odd)\n"
      ],
      "execution_count": 5,
      "outputs": [
        {
          "output_type": "stream",
          "name": "stdout",
          "text": [
            "[1, 3, 4, 6]\n",
            "[1, 3, 4, 6, 7, 8, 9, 0]\n"
          ]
        }
      ]
    },
    {
      "cell_type": "code",
      "metadata": {
        "id": "ABEuL8-XLJyn",
        "colab": {
          "base_uri": "https://localhost:8080/"
        },
        "outputId": "3bb9067b-de55-4b4a-b067-a9f44ce9ab78"
      },
      "source": [
        "my_list=['p','r','o','b','l','e','a','m']\n",
        "my_list.remove('p')\n",
        "print(my_list)\n",
        "print(my_list.pop(1))\n",
        "print(my_list)\n",
        "print(my_list.pop())\n",
        "print(my_list)\n",
        "my_list.clear()\n"
      ],
      "execution_count": 6,
      "outputs": [
        {
          "output_type": "stream",
          "name": "stdout",
          "text": [
            "['r', 'o', 'b', 'l', 'e', 'a', 'm']\n",
            "o\n",
            "['r', 'b', 'l', 'e', 'a', 'm']\n",
            "m\n",
            "['r', 'b', 'l', 'e', 'a']\n"
          ]
        }
      ]
    },
    {
      "cell_type": "code",
      "metadata": {
        "id": "O22MuC1FMrtl",
        "colab": {
          "base_uri": "https://localhost:8080/"
        },
        "outputId": "cc8044b4-96db-459b-e45f-70cf90341687"
      },
      "source": [
        "my_list = []\n",
        "print(my_list)\n",
        "my_list= [1,3,4] \n",
        "print(my_list)\n",
        "my_list=[1,\"sushil\",2]\n",
        "print(my_list)\n"
      ],
      "execution_count": 7,
      "outputs": [
        {
          "output_type": "stream",
          "name": "stdout",
          "text": [
            "[]\n",
            "[1, 3, 4]\n",
            "[1, 'sushil', 2]\n"
          ]
        }
      ]
    }
  ]
}