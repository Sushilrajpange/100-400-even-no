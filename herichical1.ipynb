{
  "nbformat": 4,
  "nbformat_minor": 0,
  "metadata": {
    "colab": {
      "name": "herichical1",
      "provenance": [],
      "collapsed_sections": [],
      "authorship_tag": "ABX9TyMQ+IBOnPogtMFmkFRXclLp",
      "include_colab_link": true
    },
    "kernelspec": {
      "name": "python3",
      "display_name": "Python 3"
    },
    "language_info": {
      "name": "python"
    }
  },
  "cells": [
    {
      "cell_type": "markdown",
      "metadata": {
        "id": "view-in-github",
        "colab_type": "text"
      },
      "source": [
        "<a href=\"https://colab.research.google.com/github/Sushilrajpange/100-400-even-no/blob/main/herichical1.ipynb\" target=\"_parent\"><img src=\"https://colab.research.google.com/assets/colab-badge.svg\" alt=\"Open In Colab\"/></a>"
      ]
    },
    {
      "cell_type": "code",
      "metadata": {
        "colab": {
          "base_uri": "https://localhost:8080/"
        },
        "id": "CapTWReV4Dn-",
        "outputId": "61c6d0d7-b46c-4c1b-b491-87c3fc20814f"
      },
      "source": [
        "class parent:\n",
        "    def func1(self):\n",
        "      print(\"the function is parent class.\")\n",
        "      \n",
        "class child1(parent):\n",
        "    def func2(self):\n",
        "      print(\"this is child class1.\")\n",
        "\n",
        "\n",
        "class child2(parent):\n",
        "    def func3(self):\n",
        "      print(\"this function class2.\")\n",
        "\n",
        "\n",
        "object1 = child1()\n",
        "object2 = child2()\n",
        "object1.func1()\n",
        "object1.func2()\n",
        "object2.func1()\n",
        "object2.func3()\n"
      ],
      "execution_count": 2,
      "outputs": [
        {
          "output_type": "stream",
          "name": "stdout",
          "text": [
            "the function is parent class.\n",
            "this is child class1.\n",
            "the function is parent class.\n",
            "this function class2.\n"
          ]
        }
      ]
    }
  ]
}