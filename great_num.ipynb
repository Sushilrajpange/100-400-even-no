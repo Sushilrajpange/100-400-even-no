{
  "nbformat": 4,
  "nbformat_minor": 0,
  "metadata": {
    "colab": {
      "name": "great num",
      "provenance": [],
      "authorship_tag": "ABX9TyO7G6vvhFQTYmJcF7vAmyYN",
      "include_colab_link": true
    },
    "kernelspec": {
      "name": "python3",
      "display_name": "Python 3"
    },
    "language_info": {
      "name": "python"
    }
  },
  "cells": [
    {
      "cell_type": "markdown",
      "metadata": {
        "id": "view-in-github",
        "colab_type": "text"
      },
      "source": [
        "<a href=\"https://colab.research.google.com/github/Sushilrajpange/100-400-even-no/blob/main/great_num.ipynb\" target=\"_parent\"><img src=\"https://colab.research.google.com/assets/colab-badge.svg\" alt=\"Open In Colab\"/></a>"
      ]
    },
    {
      "cell_type": "code",
      "metadata": {
        "colab": {
          "base_uri": "https://localhost:8080/"
        },
        "id": "wnrNYSTHcWyU",
        "outputId": "2482368d-dc51-442f-9afa-418b32b2c262"
      },
      "source": [
        "num =10\n",
        "if num%2 == 0:\n",
        "   print(\"Number is even...\")\n",
        "else:\n",
        "   print(\"Number is odd...\")"
      ],
      "execution_count": 1,
      "outputs": [
        {
          "output_type": "stream",
          "name": "stdout",
          "text": [
            "Number is even...\n"
          ]
        }
      ]
    },
    {
      "cell_type": "code",
      "metadata": {
        "colab": {
          "base_uri": "https://localhost:8080/"
        },
        "id": "3q9RmC2Hc6zC",
        "outputId": "b565db6f-9a8e-42db-dbf8-e5824fc9ff89"
      },
      "source": [
        "n=150\n",
        "print(n)\n",
        "result=n*7 if n>500 else n/7\n",
        "print(result)"
      ],
      "execution_count": 2,
      "outputs": [
        {
          "output_type": "stream",
          "name": "stdout",
          "text": [
            "150\n",
            "21.428571428571427\n"
          ]
        }
      ]
    },
    {
      "cell_type": "code",
      "metadata": {
        "colab": {
          "base_uri": "https://localhost:8080/"
        },
        "id": "l5ALwWEKd7vo",
        "outputId": "35f6f6e4-ae35-4101-99e7-ac7d628c051e"
      },
      "source": [
        "a=0\n",
        "if (a>10):\n",
        "    print(\"greater than 10\") \n",
        "else:\n",
        "    print(\"less than 10\")"
      ],
      "execution_count": 3,
      "outputs": [
        {
          "output_type": "stream",
          "name": "stdout",
          "text": [
            "less than 10\n"
          ]
        }
      ]
    }
  ]
}