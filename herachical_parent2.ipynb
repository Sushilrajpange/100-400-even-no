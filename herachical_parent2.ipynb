{
  "nbformat": 4,
  "nbformat_minor": 0,
  "metadata": {
    "colab": {
      "name": "herachical parent2",
      "provenance": [],
      "authorship_tag": "ABX9TyMspur0wM4n246w7Cf27i3K",
      "include_colab_link": true
    },
    "kernelspec": {
      "name": "python3",
      "display_name": "Python 3"
    },
    "language_info": {
      "name": "python"
    }
  },
  "cells": [
    {
      "cell_type": "markdown",
      "metadata": {
        "id": "view-in-github",
        "colab_type": "text"
      },
      "source": [
        "<a href=\"https://colab.research.google.com/github/Sushilrajpange/100-400-even-no/blob/main/herachical_parent2.ipynb\" target=\"_parent\"><img src=\"https://colab.research.google.com/assets/colab-badge.svg\" alt=\"Open In Colab\"/></a>"
      ]
    },
    {
      "cell_type": "code",
      "metadata": {
        "id": "i1RFXEW2LzIa"
      },
      "source": [
        "class Parent:\n",
        "  def fun1(self):\n",
        "    print(\"fun parent class\")\n",
        "    "
      ],
      "execution_count": 1,
      "outputs": []
    },
    {
      "cell_type": "code",
      "metadata": {
        "id": "EfjtHMM7MLdK"
      },
      "source": [
        "class Child1(Parent):\n",
        "  def fun2(self):\n",
        "    print(\"fun child class 1\")\n",
        "\n"
      ],
      "execution_count": 2,
      "outputs": []
    },
    {
      "cell_type": "code",
      "metadata": {
        "colab": {
          "base_uri": "https://localhost:8080/"
        },
        "id": "W-Dz2-d_MdtU",
        "outputId": "227778a4-bbdc-49f4-80fd-d44e9b67d9b1"
      },
      "source": [
        "class Child2(Parent):\n",
        "  def fun3(self):\n",
        "    print(\"fun child claas 2\")\n",
        "object1 = Child1()\n",
        "object2 = Child2()\n",
        "object1.fun1()\n",
        "object1.fun2()\n",
        "object2.fun1()\n",
        "object2.fun3()\n",
        "\n"
      ],
      "execution_count": 3,
      "outputs": [
        {
          "output_type": "stream",
          "name": "stdout",
          "text": [
            "fun parent class\n",
            "fun child class 1\n",
            "fun parent class\n",
            "fun child claas 2\n"
          ]
        }
      ]
    }
  ]
}