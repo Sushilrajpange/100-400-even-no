{
  "nbformat": 4,
  "nbformat_minor": 0,
  "metadata": {
    "colab": {
      "name": "cpypublicmodifire",
      "provenance": [],
      "collapsed_sections": [],
      "authorship_tag": "ABX9TyNGjathQT+LvJAA9cZQD5d9",
      "include_colab_link": true
    },
    "kernelspec": {
      "name": "python3",
      "display_name": "Python 3"
    },
    "language_info": {
      "name": "python"
    }
  },
  "cells": [
    {
      "cell_type": "markdown",
      "metadata": {
        "id": "view-in-github",
        "colab_type": "text"
      },
      "source": [
        "<a href=\"https://colab.research.google.com/github/Sushilrajpange/100-400-even-no/blob/main/cpypublicmodifire.ipynb\" target=\"_parent\"><img src=\"https://colab.research.google.com/assets/colab-badge.svg\" alt=\"Open In Colab\"/></a>"
      ]
    },
    {
      "cell_type": "code",
      "metadata": {
        "colab": {
          "base_uri": "https://localhost:8080/"
        },
        "id": "EoIxoA647N9r",
        "outputId": "de963edc-4a17-4458-d64e-2e37488fdd52"
      },
      "source": [
        "class student:\n",
        "  def __init__(self,age,name):\n",
        "      self.age = age\n",
        "      self.name = name\n",
        "obj = student(21,\"sushil\")\n",
        "print(obj.age)\n",
        "print(obj.name)\n"
      ],
      "execution_count": null,
      "outputs": [
        {
          "output_type": "stream",
          "name": "stdout",
          "text": [
            "21\n",
            "sushil\n"
          ]
        }
      ]
    }
  ]
}