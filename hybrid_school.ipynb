{
  "nbformat": 4,
  "nbformat_minor": 0,
  "metadata": {
    "colab": {
      "name": "hybrid school",
      "provenance": [],
      "authorship_tag": "ABX9TyN/lgJJjL6Mf0Ua5A5kni3P",
      "include_colab_link": true
    },
    "kernelspec": {
      "name": "python3",
      "display_name": "Python 3"
    },
    "language_info": {
      "name": "python"
    }
  },
  "cells": [
    {
      "cell_type": "markdown",
      "metadata": {
        "id": "view-in-github",
        "colab_type": "text"
      },
      "source": [
        "<a href=\"https://colab.research.google.com/github/Sushilrajpange/100-400-even-no/blob/main/hybrid_school.ipynb\" target=\"_parent\"><img src=\"https://colab.research.google.com/assets/colab-badge.svg\" alt=\"Open In Colab\"/></a>"
      ]
    },
    {
      "cell_type": "code",
      "metadata": {
        "colab": {
          "base_uri": "https://localhost:8080/"
        },
        "id": "bA0tDZJhADoX",
        "outputId": "160c49f7-69fc-43f0-ee19-809e947f10bf"
      },
      "source": [
        "class school:\n",
        "  def func1(self):\n",
        "    print(\"this fun is school. \")\n",
        "\n",
        "class student1(school):\n",
        "  def func2(self):\n",
        "    print(\"this fun is sstudent1.\")\n",
        "\n",
        "class student2(school):\n",
        "  def func3(self):\n",
        "    print(\" this fun is student 2. \")\n",
        "\n",
        "class student3(student1,school):\n",
        "  def func4(self):\n",
        "    print(\"this fun is student 3. \")\n",
        "\n",
        "object = student3()\n",
        "object = student3()\n",
        "object.func1()\n",
        "object.func2()\n",
        "\n",
        " "
      ],
      "execution_count": 2,
      "outputs": [
        {
          "output_type": "stream",
          "name": "stdout",
          "text": [
            "this fun is school. \n",
            "this fun is sstudent1.\n"
          ]
        }
      ]
    }
  ]
}