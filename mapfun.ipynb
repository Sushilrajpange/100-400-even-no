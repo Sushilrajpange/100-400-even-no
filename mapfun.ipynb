{
  "nbformat": 4,
  "nbformat_minor": 0,
  "metadata": {
    "colab": {
      "name": "mapfun",
      "provenance": [],
      "authorship_tag": "ABX9TyO359Yt4sbitp3+8H/vw22B",
      "include_colab_link": true
    },
    "kernelspec": {
      "name": "python3",
      "display_name": "Python 3"
    },
    "language_info": {
      "name": "python"
    }
  },
  "cells": [
    {
      "cell_type": "markdown",
      "metadata": {
        "id": "view-in-github",
        "colab_type": "text"
      },
      "source": [
        "<a href=\"https://colab.research.google.com/github/Sushilrajpange/100-400-even-no/blob/main/mapfun.ipynb\" target=\"_parent\"><img src=\"https://colab.research.google.com/assets/colab-badge.svg\" alt=\"Open In Colab\"/></a>"
      ]
    },
    {
      "cell_type": "code",
      "metadata": {
        "colab": {
          "base_uri": "https://localhost:8080/"
        },
        "id": "eZ6MlByG1svW",
        "outputId": "33bc7ea8-ea51-4fed-f4c5-dd7bf3899b51"
      },
      "source": [
        "\n",
        "\n",
        "def addition(n):\n",
        "   return n+n\n",
        "number = (1,2,3,4) \n",
        "result = map(addition,number)\n",
        "print(list(result))\n"
      ],
      "execution_count": null,
      "outputs": [
        {
          "output_type": "stream",
          "name": "stdout",
          "text": [
            "[2, 4, 6, 8]\n"
          ]
        }
      ]
    }
  ]
}