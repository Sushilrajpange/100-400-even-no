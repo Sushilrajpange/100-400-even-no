{
  "nbformat": 4,
  "nbformat_minor": 0,
  "metadata": {
    "colab": {
      "name": "printpattA",
      "provenance": [],
      "collapsed_sections": [],
      "authorship_tag": "ABX9TyMigHFC4O5G9fjSwI6uJoZO",
      "include_colab_link": true
    },
    "kernelspec": {
      "name": "python3",
      "display_name": "Python 3"
    },
    "language_info": {
      "name": "python"
    }
  },
  "cells": [
    {
      "cell_type": "markdown",
      "metadata": {
        "id": "view-in-github",
        "colab_type": "text"
      },
      "source": [
        "<a href=\"https://colab.research.google.com/github/Sushilrajpange/100-400-even-no/blob/main/printpattA.ipynb\" target=\"_parent\"><img src=\"https://colab.research.google.com/assets/colab-badge.svg\" alt=\"Open In Colab\"/></a>"
      ]
    },
    {
      "cell_type": "code",
      "metadata": {
        "id": "VcdROI3klVzH",
        "colab": {
          "base_uri": "https://localhost:8080/"
        },
        "outputId": "b9f6b845-4869-453e-b5f5-c290223f0298"
      },
      "source": [
        "result_str=\"\";\n",
        "for row in range(0,7):\n",
        "  for column in range(0,7):\n",
        "   if (((column == 1 or column ==5) and row !=0) or ((row == 0 or row == 3)and (column > 1 and column < 5))):\n",
        "     result_str=result_str+\"*\"\n",
        "   else:\n",
        "     result_str=result_str+\" \"\n",
        "  result_str=result_str+\"\\n\"\n",
        "  print(result_str);"
      ],
      "execution_count": null,
      "outputs": [
        {
          "output_type": "stream",
          "name": "stdout",
          "text": [
            "  ***  \n",
            "\n",
            "  ***  \n",
            " *   * \n",
            "\n",
            "  ***  \n",
            " *   * \n",
            " *   * \n",
            "\n",
            "  ***  \n",
            " *   * \n",
            " *   * \n",
            " ***** \n",
            "\n",
            "  ***  \n",
            " *   * \n",
            " *   * \n",
            " ***** \n",
            " *   * \n",
            "\n",
            "  ***  \n",
            " *   * \n",
            " *   * \n",
            " ***** \n",
            " *   * \n",
            " *   * \n",
            "\n",
            "  ***  \n",
            " *   * \n",
            " *   * \n",
            " ***** \n",
            " *   * \n",
            " *   * \n",
            " *   * \n",
            "\n"
          ]
        }
      ]
    }
  ]
}